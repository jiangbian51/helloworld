{
 "cells": [
  {
   "cell_type": "code",
   "execution_count": 2,
   "metadata": {},
   "outputs": [
    {
     "name": "stdout",
     "output_type": "stream",
     "text": [
      "-0.5\n",
      "2.0\n",
      "2.0\n"
     ]
    }
   ],
   "source": [
    "price=float(input())\n",
    "price_new=float(input())\n",
    "demand=float(input())\n",
    "demand_new=float(input())\n",
    "PED=((demand_new-demand)/demand)/((price_new-price)/price)\n",
    "total=price*demand\n",
    "total_new=price_new*demand_new\n",
    "print(PED)\n",
    "print(total)\n",
    "print(total_new)"
   ]
  }
 ],
 "metadata": {
  "kernelspec": {
   "display_name": "Python 3",
   "language": "python",
   "name": "python3"
  },
  "language_info": {
   "codemirror_mode": {
    "name": "ipython",
    "version": 3
   },
   "file_extension": ".py",
   "mimetype": "text/x-python",
   "name": "python",
   "nbconvert_exporter": "python",
   "pygments_lexer": "ipython3",
   "version": "3.10.9"
  },
  "orig_nbformat": 4
 },
 "nbformat": 4,
 "nbformat_minor": 2
}
