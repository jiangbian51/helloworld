{
 "cells": [
  {
   "cell_type": "code",
   "execution_count": null,
   "metadata": {},
   "outputs": [],
   "source": [
    "from csv import *\n",
    "content=[['0','hanmeimei','23','81'],['1','mayi','18','99']]\n",
    "f=open(\"test.csv\",\"w\",newline=\"\")\n",
    "content_out=writer(f)\n",
    "for con in content:\n",
    "    content_out.writerow(con)\n",
    "f.close()\n",
    "with open(\"test.csv\",\"r\")as f:\n",
    "    reader =reader(f)\n",
    "    rows=[row for row in reader]\n",
    "for item in rows:\n",
    "    print(item)"
   ]
  },
  {
   "cell_type": "code",
   "execution_count": null,
   "metadata": {},
   "outputs": [],
   "source": [
    "import numpy as np\n",
    "data1=[1,3,5,7]\n",
    "w1=np.array(data1)\n",
    "print(\"w1:\",w1,\"\\n\")\n",
    "data2=[[1,3,5,7],[2,4,6,8]]\n",
    "w2=np.array(data2)\n",
    "print(\"w2:\",w2,\"\\n\")\n",
    "w3=np.array([1,2,3,4],dtype=\"float64\")\n",
    "print(\"w3:\",w3,\"\\n\")\n",
    "print(np.diag([1,2,3,4]),\"\\n\")\n",
    "a=np.eye(3)\n",
    "print(a[[2,1,2,2]])"
   ]
  },
  {
   "cell_type": "code",
   "execution_count": null,
   "metadata": {},
   "outputs": [],
   "source": [
    "d1=np.arange(10,50,1)\n",
    "print(d1,\"\\n\")\n",
    "d2=d1[::-1]\n",
    "print(d2,\"\\n\")\n",
    "d3=np.random.random(size=(10,10))\n",
    "max=np.max(d3)\n",
    "min=np.min(d3)\n",
    "print(max,min,\"\\n\")\n",
    "d4=np.zeros((10,10),dtype=int)\n",
    "d4[[0,-1]]=1\n",
    "d4[:,[0,-1]]=1\n",
    "print(d4,\"\\n\")\n",
    "d5=np.linspace(0,1,12)\n",
    "print(d5,\"\\n\")\n",
    "d6=np.random.randint(1,10,10)\n",
    "d6.sort()\n",
    "print(d6,\"\\n\")\n",
    "d7=np.random.randint(0,10,size=(2,3,4,5))\n",
    "print(d7.ndim)\n",
    "d7t=d7.sum(axis=(2,3))\n",
    "print(d7t,\"\\n\")\n",
    "a=np.arange(10).reshape(2,-1)\n",
    "print(a,\"\\n\")\n",
    "b=np.repeat(1,10).reshape(2,-1)\n",
    "print(b,\"\\n\")\n",
    "result=np.concatenate((a,b),axis=1)\n",
    "print(result)"
   ]
  },
  {
   "attachments": {},
   "cell_type": "markdown",
   "metadata": {},
   "source": [
    "##### arange()函数生成数组\n",
    "numpy.arange(start, stop, step, dtype = None)  \n",
    "start:开始位置，数字，**可选项**，默认起始值为0  \n",
    "stop:停止位置，数字  \n",
    "step:步长，数字，**可选项**， 默认步长为1，如果指定了step，则还必须给出start。  \n",
    "dtype:输出数组的类型。 如果未给出dtype，则从其他输入参数推断数据类型。  \n",
    "**print(np.arange(0,1,0.1))**  \n",
    "**output:[0.  0.1 0.2 0.3 0.4 0.5 0.6 0.7 0.8 0.9]**  \n",
    "##### ligspace()函数创建等差数组 \n",
    "numpy.linspace(start, stop, num=50, endpoint=True, retstep=False, dtype=None)  \n",
    "start：序列中数据的下界。  \n",
    "end：序列中数据的上界。  \n",
    "num：生成序列包含num个元素；其值默认为50。  \n",
    "endpoint：取True时，序列包含最大值end；否则不包含；其值默认为True。  \n",
    "retstep：该值取True时，生成的序列中显示间距；反正不显示；其值默认为false。  \n",
    "dtype：数据类型，可以指定生成序列的数据类型；当为None时，根据其他输入推断数据类型。  \n",
    "**print(np.linspace(0,1,5))**  \n",
    "**output:[0.   0.25 0.5  0.75 1.  ]**\n",
    "##### logspace()函数创建等比数组 \n",
    "numpy.logspace(start, stop, num=50, endpoint=True, base=10.0, dtype=None)  \n",
    "start：起始值。stop：终止值。  \n",
    "num：生成的等比数列中的元素个数。如果没有设置这个参数，缺省值为50。  \n",
    "endpoint：如果为True，终止值包含在数列中，反之则不包含。默认为True。  \n",
    "base：对数的底数。默认为10。  \n",
    "dtype：输出数组的数据类型。如果没有设置，缺省值为numpy.float64。 \n",
    "**print(np.logspace(0,1,5))**  \n",
    "**output:[ 1.          1.77827941  3.16227766  5.62341325 10.        ]**  \n",
    "##### zeros()函数(创建全0矩阵),ones()函数(创建全1矩阵)\n",
    "numpy.zeros(shape，dtype=float，order = 'C')  \n",
    "shape：决定新阵列的形状，例如：(2，3)或2。  \n",
    "dtype：数组的所需数据类型，例如numpy.int8。默认是numpy.float64  \n",
    "order：{'C'，'F'}，可选，默认：'C'。是否在内容中以行（C）或列（F）顺序存储多维数据。  \n",
    "**np.zeros((2,3))(即两行三列的矩阵)**  \n",
    "**output:array([[0., 0., 0.],**  \n",
    "**[0., 0., 0.]])**  \n",
    "##### diag函数创建对角矩阵\n",
    "**print(np.diag([1,2,3,4]))**  \n",
    "**out:[[1 0 0 0]**  \n",
    " **[0 2 0 0]**  \n",
    " **[0 0 3 0]**  \n",
    " **[0 0 0 4]]**  "
   ]
  }
 ],
 "metadata": {
  "kernelspec": {
   "display_name": "Python 3",
   "language": "python",
   "name": "python3"
  },
  "language_info": {
   "codemirror_mode": {
    "name": "ipython",
    "version": 3
   },
   "file_extension": ".py",
   "mimetype": "text/x-python",
   "name": "python",
   "nbconvert_exporter": "python",
   "pygments_lexer": "ipython3",
   "version": "3.10.9"
  },
  "orig_nbformat": 4
 },
 "nbformat": 4,
 "nbformat_minor": 2
}
