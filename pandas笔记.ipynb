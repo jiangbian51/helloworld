{
 "cells": [
  {
   "cell_type": "code",
   "execution_count": null,
   "metadata": {},
   "outputs": [],
   "source": [
    "import pandas as pd\n",
    "import numpy as np\n",
    "d1=pd.Series([1,2,3,4])\n",
    "print(d1)"
   ]
  },
  {
   "cell_type": "code",
   "execution_count": null,
   "metadata": {},
   "outputs": [],
   "source": [
    "i=[\"a\",\"c\",\"d\",\"a\"]\n",
    "v=[2,4,5,7]\n",
    "t=pd.Series(v,index=i,name=\"col\")\n",
    "print(t)"
   ]
  },
  {
   "cell_type": "code",
   "execution_count": null,
   "metadata": {},
   "outputs": [],
   "source": [
    "sdata={'a':1,'b':2,'c':3,'d':4}\n",
    "letter=['a','b','c','e']\n",
    "obj3=pd.Series(sdata,index=letter)\n",
    "print(obj3)\n",
    "obj3.index=('a','b','c','d')\n",
    "print(obj3)\n",
    "obj3.reindex(['b','a','d','c'])#reindex重新排序"
   ]
  },
  {
   "cell_type": "code",
   "execution_count": null,
   "metadata": {},
   "outputs": [],
   "source": [
    "df4=pd.DataFrame(np.arange(9).reshape(3,3),index=['a','c','d'],columns=[1,2,4])\n",
    "print(df4)\n",
    "df4.reindex(index=['a','b','c','d'],columns=[1,2,3,4],fill_value='aaa')#fill_value"
   ]
  },
  {
   "cell_type": "code",
   "execution_count": null,
   "metadata": {},
   "outputs": [],
   "source": [
    "df=pd.DataFrame(np.arange(9).reshape(3,3),index=['a','c','d'],columns=['i','j','k'])\n",
    "print(df)\n",
    "df[(df['i']==0)|(df['i']==3)]#布尔选择"
   ]
  },
  {
   "cell_type": "code",
   "execution_count": 43,
   "metadata": {},
   "outputs": [
    {
     "data": {
      "text/plain": [
       "1    2\n",
       "2    2\n",
       "3    2\n",
       "5    2\n",
       "4    1\n",
       "6    1\n",
       "dtype: int64"
      ]
     },
     "execution_count": 43,
     "metadata": {},
     "output_type": "execute_result"
    }
   ],
   "source": [
    "a=pd.Series([1,2,3,4,5,5,6,3,2,1])\n",
    "a.value_counts()#计算频数"
   ]
  },
  {
   "cell_type": "code",
   "execution_count": null,
   "metadata": {},
   "outputs": [],
   "source": []
  }
 ],
 "metadata": {
  "kernelspec": {
   "display_name": "Python 3",
   "language": "python",
   "name": "python3"
  },
  "language_info": {
   "codemirror_mode": {
    "name": "ipython",
    "version": 3
   },
   "file_extension": ".py",
   "mimetype": "text/x-python",
   "name": "python",
   "nbconvert_exporter": "python",
   "pygments_lexer": "ipython3",
   "version": "3.10.9"
  },
  "orig_nbformat": 4
 },
 "nbformat": 4,
 "nbformat_minor": 2
}
