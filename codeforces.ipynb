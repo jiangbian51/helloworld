{
 "cells": [
  {
   "cell_type": "code",
   "execution_count": null,
   "metadata": {},
   "outputs": [],
   "source": [
    "#https://codeforces.com/gym/104460/problem/L\n",
    "def calculate(x):\n",
    "   a=1\n",
    "   for i in range (len(str(x))):\n",
    "      a*=int(str(x)[i])\n",
    "   return a\n",
    "b=1\n",
    "for i in range(int(input()),int(input())+1):\n",
    "   b*=calculate(i)\n",
    "print(b%(10**20+7))"
   ]
  },
  {
   "cell_type": "code",
   "execution_count": 1,
   "metadata": {},
   "outputs": [
    {
     "name": "stdout",
     "output_type": "stream",
     "text": [
      "15\n"
     ]
    }
   ],
   "source": [
    "#https://codeforces.com/gym/104487/problem/J\n",
    "def mm():\n",
    "   a=int(input())\n",
    "   b=int(input())\n",
    "   c=[0]*a\n",
    "   s=0\n",
    "   if a>b or a==b:\n",
    "      for i in range(a):\n",
    "         c[i]=int(input())\n",
    "      for i in range(a):\n",
    "         for j in range(a):\n",
    "            if c[j]<c[i]:\n",
    "               temp=c[j]\n",
    "               c[j]=c[i]\n",
    "               c[i]=temp\n",
    "      for i in range(b):\n",
    "         s+=c[i]\n",
    "      print(s)\n",
    "   else:\n",
    "      print(\"输入有误，请重新输入\")\n",
    "      mm()\n",
    "mm()\n",
    "\n"
   ]
  },
  {
   "cell_type": "code",
   "execution_count": 3,
   "metadata": {},
   "outputs": [
    {
     "name": "stdout",
     "output_type": "stream",
     "text": [
      "13\n",
      "31\n"
     ]
    }
   ],
   "source": [
    "#https://codeforces.com/contest/1861/problem/A\n",
    "size = int(input())\n",
    "for i in range (0,size):\n",
    "    number = input()\n",
    "    for k in number:\n",
    "        if(k == '3'):\n",
    "            print(\"31\")\n",
    "            break\n",
    "        if(k == '1'):\n",
    "            print(\"13\")\n",
    "            break"
   ]
  }
 ],
 "metadata": {
  "kernelspec": {
   "display_name": "Python 3",
   "language": "python",
   "name": "python3"
  },
  "language_info": {
   "codemirror_mode": {
    "name": "ipython",
    "version": 3
   },
   "file_extension": ".py",
   "mimetype": "text/x-python",
   "name": "python",
   "nbconvert_exporter": "python",
   "pygments_lexer": "ipython3",
   "version": "3.10.9"
  },
  "orig_nbformat": 4
 },
 "nbformat": 4,
 "nbformat_minor": 2
}
